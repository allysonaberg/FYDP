{
 "cells": [
  {
   "cell_type": "code",
   "execution_count": 227,
   "metadata": {},
   "outputs": [],
   "source": [
    "#Importing the libraries\n",
    "import numpy as np\n",
    "import pandas as pd\n",
    "import matplotlib.pyplot as plt\n",
    "import seaborn as sns\n",
    "import pickle\n",
    "import os\n",
    "import datetime as dt\n",
    "%matplotlib inline"
   ]
  },
  {
   "cell_type": "code",
   "execution_count": 228,
   "metadata": {
    "scrolled": true
   },
   "outputs": [
    {
     "data": {
      "text/plain": [
       "Index(['Name', 'Email', 'Financial Status', 'Paid at', 'Fulfillment Status',\n",
       "       'Fulfilled at', 'Accepts Marketing', 'Currency', 'Subtotal', 'Shipping',\n",
       "       'Taxes', 'Total', 'Discount Code', 'Discount Amount', 'Shipping Method',\n",
       "       'Created at', 'Lineitem quantity', 'Lineitem name', 'Lineitem price',\n",
       "       'Lineitem compare at price', 'Lineitem sku',\n",
       "       'Lineitem requires shipping', 'Lineitem taxable',\n",
       "       'Lineitem fulfillment status', 'Billing Name', 'Billing Street',\n",
       "       'Billing Address1', 'Billing Address2', 'Billing Company',\n",
       "       'Billing City', 'Billing Zip', 'Billing Province', 'Billing Country',\n",
       "       'Billing Phone', 'Shipping Name', 'Shipping Street',\n",
       "       'Shipping Address1', 'Shipping Address2', 'Shipping Company',\n",
       "       'Shipping City', 'Shipping Zip', 'Shipping Province',\n",
       "       'Shipping Country', 'Shipping Phone', 'Notes', 'Note Attributes',\n",
       "       'Cancelled at', 'Payment Method', 'Payment Reference',\n",
       "       'Refunded Amount', 'Vendor', 'Id', 'Tags', 'Risk Level', 'Source',\n",
       "       'Lineitem discount', 'Tax 1 Name', 'Tax 1 Value', 'Tax 2 Name',\n",
       "       'Tax 2 Value', 'Tax 3 Name', 'Tax 3 Value', 'Tax 4 Name', 'Tax 4 Value',\n",
       "       'Tax 5 Name', 'Tax 5 Value', 'Phone', 'Receipt Number'],\n",
       "      dtype='object')"
      ]
     },
     "execution_count": 228,
     "metadata": {},
     "output_type": "execute_result"
    }
   ],
   "source": [
    "#Importing the dataset\n",
    "data = pd.read_csv(\"data/rologolf_orders.csv\")\n",
    "data.dropna(subset = [\"Financial Status\"], inplace=True)\n",
    "data.columns"
   ]
  },
  {
   "cell_type": "code",
   "execution_count": 229,
   "metadata": {
    "scrolled": true
   },
   "outputs": [
    {
     "name": "stderr",
     "output_type": "stream",
     "text": [
      "<ipython-input-229-cdea82a3b674>:2: SettingWithCopyWarning: \n",
      "A value is trying to be set on a copy of a slice from a DataFrame\n",
      "\n",
      "See the caveats in the documentation: https://pandas.pydata.org/pandas-docs/stable/user_guide/indexing.html#returning-a-view-versus-a-copy\n",
      "  df.dropna(subset = [\"Paid at\"], inplace=True)\n"
     ]
    },
    {
     "data": {
      "text/html": [
       "<div>\n",
       "<style scoped>\n",
       "    .dataframe tbody tr th:only-of-type {\n",
       "        vertical-align: middle;\n",
       "    }\n",
       "\n",
       "    .dataframe tbody tr th {\n",
       "        vertical-align: top;\n",
       "    }\n",
       "\n",
       "    .dataframe thead th {\n",
       "        text-align: right;\n",
       "    }\n",
       "</style>\n",
       "<table border=\"1\" class=\"dataframe\">\n",
       "  <thead>\n",
       "    <tr style=\"text-align: right;\">\n",
       "      <th></th>\n",
       "      <th>Paid at</th>\n",
       "      <th>Subtotal</th>\n",
       "      <th>Discount Amount</th>\n",
       "      <th>Shipping</th>\n",
       "    </tr>\n",
       "  </thead>\n",
       "  <tbody>\n",
       "    <tr>\n",
       "      <th>0</th>\n",
       "      <td>2020-11-03 01:32:22 -0500</td>\n",
       "      <td>41.40</td>\n",
       "      <td>27.60</td>\n",
       "      <td>9.45</td>\n",
       "    </tr>\n",
       "    <tr>\n",
       "      <th>1</th>\n",
       "      <td>2020-10-29 16:04:18 -0400</td>\n",
       "      <td>82.80</td>\n",
       "      <td>55.20</td>\n",
       "      <td>14.90</td>\n",
       "    </tr>\n",
       "    <tr>\n",
       "      <th>3</th>\n",
       "      <td>2020-10-28 10:49:31 -0400</td>\n",
       "      <td>124.20</td>\n",
       "      <td>82.80</td>\n",
       "      <td>0.00</td>\n",
       "    </tr>\n",
       "    <tr>\n",
       "      <th>6</th>\n",
       "      <td>2020-10-27 22:49:10 -0400</td>\n",
       "      <td>0.00</td>\n",
       "      <td>97.38</td>\n",
       "      <td>11.29</td>\n",
       "    </tr>\n",
       "    <tr>\n",
       "      <th>9</th>\n",
       "      <td>2020-10-27 22:32:55 -0400</td>\n",
       "      <td>58.65</td>\n",
       "      <td>10.35</td>\n",
       "      <td>10.53</td>\n",
       "    </tr>\n",
       "    <tr>\n",
       "      <th>...</th>\n",
       "      <td>...</td>\n",
       "      <td>...</td>\n",
       "      <td>...</td>\n",
       "      <td>...</td>\n",
       "    </tr>\n",
       "    <tr>\n",
       "      <th>184</th>\n",
       "      <td>2020-08-31 12:03:36 -0400</td>\n",
       "      <td>12.69</td>\n",
       "      <td>0.00</td>\n",
       "      <td>11.40</td>\n",
       "    </tr>\n",
       "    <tr>\n",
       "      <th>185</th>\n",
       "      <td>2020-08-30 13:25:08 -0400</td>\n",
       "      <td>124.20</td>\n",
       "      <td>82.80</td>\n",
       "      <td>0.00</td>\n",
       "    </tr>\n",
       "    <tr>\n",
       "      <th>188</th>\n",
       "      <td>2020-08-30 11:04:49 -0400</td>\n",
       "      <td>12.69</td>\n",
       "      <td>0.00</td>\n",
       "      <td>9.54</td>\n",
       "    </tr>\n",
       "    <tr>\n",
       "      <th>189</th>\n",
       "      <td>2020-08-30 02:32:45 -0400</td>\n",
       "      <td>69.00</td>\n",
       "      <td>0.00</td>\n",
       "      <td>15.19</td>\n",
       "    </tr>\n",
       "    <tr>\n",
       "      <th>190</th>\n",
       "      <td>2020-08-29 21:54:04 -0400</td>\n",
       "      <td>41.40</td>\n",
       "      <td>27.60</td>\n",
       "      <td>9.54</td>\n",
       "    </tr>\n",
       "  </tbody>\n",
       "</table>\n",
       "<p>100 rows × 4 columns</p>\n",
       "</div>"
      ],
      "text/plain": [
       "                       Paid at  Subtotal  Discount Amount  Shipping\n",
       "0    2020-11-03 01:32:22 -0500     41.40            27.60      9.45\n",
       "1    2020-10-29 16:04:18 -0400     82.80            55.20     14.90\n",
       "3    2020-10-28 10:49:31 -0400    124.20            82.80      0.00\n",
       "6    2020-10-27 22:49:10 -0400      0.00            97.38     11.29\n",
       "9    2020-10-27 22:32:55 -0400     58.65            10.35     10.53\n",
       "..                         ...       ...              ...       ...\n",
       "184  2020-08-31 12:03:36 -0400     12.69             0.00     11.40\n",
       "185  2020-08-30 13:25:08 -0400    124.20            82.80      0.00\n",
       "188  2020-08-30 11:04:49 -0400     12.69             0.00      9.54\n",
       "189  2020-08-30 02:32:45 -0400     69.00             0.00     15.19\n",
       "190  2020-08-29 21:54:04 -0400     41.40            27.60      9.54\n",
       "\n",
       "[100 rows x 4 columns]"
      ]
     },
     "execution_count": 229,
     "metadata": {},
     "output_type": "execute_result"
    }
   ],
   "source": [
    "df = data[['Paid at','Subtotal','Discount Amount','Shipping']]\n",
    "df.dropna(subset = [\"Paid at\"], inplace=True)\n",
    "df.head(100)"
   ]
  },
  {
   "cell_type": "code",
   "execution_count": 247,
   "metadata": {
    "scrolled": true
   },
   "outputs": [
    {
     "name": "stderr",
     "output_type": "stream",
     "text": [
      "<ipython-input-247-be6a711495db>:2: SettingWithCopyWarning: \n",
      "A value is trying to be set on a copy of a slice from a DataFrame.\n",
      "Try using .loc[row_indexer,col_indexer] = value instead\n",
      "\n",
      "See the caveats in the documentation: https://pandas.pydata.org/pandas-docs/stable/user_guide/indexing.html#returning-a-view-versus-a-copy\n",
      "  df['Paid at'] = pd.to_datetime(df['Paid at'], utc=True).dt.date\n",
      "<ipython-input-247-be6a711495db>:3: SettingWithCopyWarning: \n",
      "A value is trying to be set on a copy of a slice from a DataFrame.\n",
      "Try using .loc[row_indexer,col_indexer] = value instead\n",
      "\n",
      "See the caveats in the documentation: https://pandas.pydata.org/pandas-docs/stable/user_guide/indexing.html#returning-a-view-versus-a-copy\n",
      "  df['Paid at'] = pd.to_datetime(df['Paid at'])\n",
      "<ipython-input-247-be6a711495db>:4: SettingWithCopyWarning: \n",
      "A value is trying to be set on a copy of a slice from a DataFrame.\n",
      "Try using .loc[row_indexer,col_indexer] = value instead\n",
      "\n",
      "See the caveats in the documentation: https://pandas.pydata.org/pandas-docs/stable/user_guide/indexing.html#returning-a-view-versus-a-copy\n",
      "  df['Purchase Month'] = pd.to_datetime(df['Paid at']).values.astype('datetime64[M]')\n",
      "<ipython-input-247-be6a711495db>:5: SettingWithCopyWarning: \n",
      "A value is trying to be set on a copy of a slice from a DataFrame.\n",
      "Try using .loc[row_indexer,col_indexer] = value instead\n",
      "\n",
      "See the caveats in the documentation: https://pandas.pydata.org/pandas-docs/stable/user_guide/indexing.html#returning-a-view-versus-a-copy\n",
      "  df['Total'] = df['Subtotal'] + df['Discount Amount']\n",
      "/Users/courtneytam/opt/anaconda3/lib/python3.8/site-packages/pandas/core/frame.py:3990: SettingWithCopyWarning: \n",
      "A value is trying to be set on a copy of a slice from a DataFrame\n",
      "\n",
      "See the caveats in the documentation: https://pandas.pydata.org/pandas-docs/stable/user_guide/indexing.html#returning-a-view-versus-a-copy\n",
      "  return super().drop(\n",
      "<ipython-input-247-be6a711495db>:8: SettingWithCopyWarning: \n",
      "A value is trying to be set on a copy of a slice from a DataFrame.\n",
      "Try using .loc[row_indexer,col_indexer] = value instead\n",
      "\n",
      "See the caveats in the documentation: https://pandas.pydata.org/pandas-docs/stable/user_guide/indexing.html#returning-a-view-versus-a-copy\n",
      "  df['Purchase Month Numerical'] = df['Purchase Month'].map(dt.datetime.toordinal)\n"
     ]
    },
    {
     "data": {
      "text/html": [
       "<div>\n",
       "<style scoped>\n",
       "    .dataframe tbody tr th:only-of-type {\n",
       "        vertical-align: middle;\n",
       "    }\n",
       "\n",
       "    .dataframe tbody tr th {\n",
       "        vertical-align: top;\n",
       "    }\n",
       "\n",
       "    .dataframe thead th {\n",
       "        text-align: right;\n",
       "    }\n",
       "</style>\n",
       "<table border=\"1\" class=\"dataframe\">\n",
       "  <thead>\n",
       "    <tr style=\"text-align: right;\">\n",
       "      <th></th>\n",
       "      <th>Paid at</th>\n",
       "      <th>Subtotal</th>\n",
       "      <th>Discount Amount</th>\n",
       "      <th>Shipping</th>\n",
       "      <th>Purchase Month</th>\n",
       "      <th>Total</th>\n",
       "      <th>Purchase Month Numerical</th>\n",
       "    </tr>\n",
       "  </thead>\n",
       "  <tbody>\n",
       "    <tr>\n",
       "      <th>1</th>\n",
       "      <td>2020-10-29</td>\n",
       "      <td>82.80</td>\n",
       "      <td>55.20</td>\n",
       "      <td>14.90</td>\n",
       "      <td>2020-10-01</td>\n",
       "      <td>138.00</td>\n",
       "      <td>737699</td>\n",
       "    </tr>\n",
       "    <tr>\n",
       "      <th>3</th>\n",
       "      <td>2020-10-28</td>\n",
       "      <td>124.20</td>\n",
       "      <td>82.80</td>\n",
       "      <td>0.00</td>\n",
       "      <td>2020-10-01</td>\n",
       "      <td>207.00</td>\n",
       "      <td>737699</td>\n",
       "    </tr>\n",
       "    <tr>\n",
       "      <th>6</th>\n",
       "      <td>2020-10-28</td>\n",
       "      <td>0.00</td>\n",
       "      <td>97.38</td>\n",
       "      <td>11.29</td>\n",
       "      <td>2020-10-01</td>\n",
       "      <td>97.38</td>\n",
       "      <td>737699</td>\n",
       "    </tr>\n",
       "    <tr>\n",
       "      <th>9</th>\n",
       "      <td>2020-10-28</td>\n",
       "      <td>58.65</td>\n",
       "      <td>10.35</td>\n",
       "      <td>10.53</td>\n",
       "      <td>2020-10-01</td>\n",
       "      <td>69.00</td>\n",
       "      <td>737699</td>\n",
       "    </tr>\n",
       "    <tr>\n",
       "      <th>10</th>\n",
       "      <td>2020-10-27</td>\n",
       "      <td>41.40</td>\n",
       "      <td>27.60</td>\n",
       "      <td>15.07</td>\n",
       "      <td>2020-10-01</td>\n",
       "      <td>69.00</td>\n",
       "      <td>737699</td>\n",
       "    </tr>\n",
       "    <tr>\n",
       "      <th>...</th>\n",
       "      <td>...</td>\n",
       "      <td>...</td>\n",
       "      <td>...</td>\n",
       "      <td>...</td>\n",
       "      <td>...</td>\n",
       "      <td>...</td>\n",
       "      <td>...</td>\n",
       "    </tr>\n",
       "    <tr>\n",
       "      <th>623</th>\n",
       "      <td>2019-12-27</td>\n",
       "      <td>138.00</td>\n",
       "      <td>0.00</td>\n",
       "      <td>17.44</td>\n",
       "      <td>2019-12-01</td>\n",
       "      <td>138.00</td>\n",
       "      <td>737394</td>\n",
       "    </tr>\n",
       "    <tr>\n",
       "      <th>625</th>\n",
       "      <td>2019-12-18</td>\n",
       "      <td>138.00</td>\n",
       "      <td>0.00</td>\n",
       "      <td>6.01</td>\n",
       "      <td>2019-12-01</td>\n",
       "      <td>138.00</td>\n",
       "      <td>737394</td>\n",
       "    </tr>\n",
       "    <tr>\n",
       "      <th>627</th>\n",
       "      <td>2019-12-11</td>\n",
       "      <td>51.75</td>\n",
       "      <td>17.25</td>\n",
       "      <td>10.50</td>\n",
       "      <td>2019-12-01</td>\n",
       "      <td>69.00</td>\n",
       "      <td>737394</td>\n",
       "    </tr>\n",
       "    <tr>\n",
       "      <th>628</th>\n",
       "      <td>2019-12-06</td>\n",
       "      <td>44.85</td>\n",
       "      <td>24.15</td>\n",
       "      <td>10.55</td>\n",
       "      <td>2019-12-01</td>\n",
       "      <td>69.00</td>\n",
       "      <td>737394</td>\n",
       "    </tr>\n",
       "    <tr>\n",
       "      <th>629</th>\n",
       "      <td>2019-12-04</td>\n",
       "      <td>51.75</td>\n",
       "      <td>17.25</td>\n",
       "      <td>5.95</td>\n",
       "      <td>2019-12-01</td>\n",
       "      <td>69.00</td>\n",
       "      <td>737394</td>\n",
       "    </tr>\n",
       "  </tbody>\n",
       "</table>\n",
       "<p>389 rows × 7 columns</p>\n",
       "</div>"
      ],
      "text/plain": [
       "       Paid at  Subtotal  Discount Amount  Shipping Purchase Month   Total  \\\n",
       "1   2020-10-29     82.80            55.20     14.90     2020-10-01  138.00   \n",
       "3   2020-10-28    124.20            82.80      0.00     2020-10-01  207.00   \n",
       "6   2020-10-28      0.00            97.38     11.29     2020-10-01   97.38   \n",
       "9   2020-10-28     58.65            10.35     10.53     2020-10-01   69.00   \n",
       "10  2020-10-27     41.40            27.60     15.07     2020-10-01   69.00   \n",
       "..         ...       ...              ...       ...            ...     ...   \n",
       "623 2019-12-27    138.00             0.00     17.44     2019-12-01  138.00   \n",
       "625 2019-12-18    138.00             0.00      6.01     2019-12-01  138.00   \n",
       "627 2019-12-11     51.75            17.25     10.50     2019-12-01   69.00   \n",
       "628 2019-12-06     44.85            24.15     10.55     2019-12-01   69.00   \n",
       "629 2019-12-04     51.75            17.25      5.95     2019-12-01   69.00   \n",
       "\n",
       "     Purchase Month Numerical  \n",
       "1                      737699  \n",
       "3                      737699  \n",
       "6                      737699  \n",
       "9                      737699  \n",
       "10                     737699  \n",
       "..                        ...  \n",
       "623                    737394  \n",
       "625                    737394  \n",
       "627                    737394  \n",
       "628                    737394  \n",
       "629                    737394  \n",
       "\n",
       "[389 rows x 7 columns]"
      ]
     },
     "execution_count": 247,
     "metadata": {},
     "output_type": "execute_result"
    }
   ],
   "source": [
    "df.dtypes\n",
    "df['Paid at'] = pd.to_datetime(df['Paid at'], utc=True).dt.date\n",
    "df['Paid at'] = pd.to_datetime(df['Paid at'])\n",
    "df['Purchase Month'] = pd.to_datetime(df['Paid at']).values.astype('datetime64[M]')\n",
    "df['Total'] = df['Subtotal'] + df['Discount Amount']\n",
    "current_month = df[df['Purchase Month'] == '2020-11-01'].index\n",
    "df.drop(current_month, inplace=True)\n",
    "df['Purchase Month Numerical'] = df['Purchase Month'].map(dt.datetime.toordinal)\n",
    "df"
   ]
  },
  {
   "cell_type": "code",
   "execution_count": 248,
   "metadata": {
    "scrolled": false
   },
   "outputs": [
    {
     "data": {
      "text/plain": [
       "Paid at                     datetime64[ns]\n",
       "Subtotal                           float64\n",
       "Discount Amount                    float64\n",
       "Shipping                           float64\n",
       "Purchase Month              datetime64[ns]\n",
       "Total                              float64\n",
       "Purchase Month Numerical             int64\n",
       "dtype: object"
      ]
     },
     "execution_count": 248,
     "metadata": {},
     "output_type": "execute_result"
    }
   ],
   "source": [
    "df.dtypes"
   ]
  },
  {
   "cell_type": "code",
   "execution_count": 249,
   "metadata": {
    "scrolled": true
   },
   "outputs": [
    {
     "data": {
      "text/html": [
       "<div>\n",
       "<style scoped>\n",
       "    .dataframe tbody tr th:only-of-type {\n",
       "        vertical-align: middle;\n",
       "    }\n",
       "\n",
       "    .dataframe tbody tr th {\n",
       "        vertical-align: top;\n",
       "    }\n",
       "\n",
       "    .dataframe thead th {\n",
       "        text-align: right;\n",
       "    }\n",
       "</style>\n",
       "<table border=\"1\" class=\"dataframe\">\n",
       "  <thead>\n",
       "    <tr style=\"text-align: right;\">\n",
       "      <th></th>\n",
       "      <th>Purchase Month</th>\n",
       "      <th>Total</th>\n",
       "      <th>Purchase Month Numerical</th>\n",
       "    </tr>\n",
       "  </thead>\n",
       "  <tbody>\n",
       "    <tr>\n",
       "      <th>0</th>\n",
       "      <td>2019-12-01</td>\n",
       "      <td>483.00</td>\n",
       "      <td>737394</td>\n",
       "    </tr>\n",
       "    <tr>\n",
       "      <th>1</th>\n",
       "      <td>2020-01-01</td>\n",
       "      <td>966.00</td>\n",
       "      <td>737425</td>\n",
       "    </tr>\n",
       "    <tr>\n",
       "      <th>2</th>\n",
       "      <td>2020-02-01</td>\n",
       "      <td>483.00</td>\n",
       "      <td>737456</td>\n",
       "    </tr>\n",
       "    <tr>\n",
       "      <th>3</th>\n",
       "      <td>2020-03-01</td>\n",
       "      <td>759.00</td>\n",
       "      <td>737485</td>\n",
       "    </tr>\n",
       "    <tr>\n",
       "      <th>4</th>\n",
       "      <td>2020-04-01</td>\n",
       "      <td>483.00</td>\n",
       "      <td>737516</td>\n",
       "    </tr>\n",
       "    <tr>\n",
       "      <th>5</th>\n",
       "      <td>2020-05-01</td>\n",
       "      <td>2553.00</td>\n",
       "      <td>737546</td>\n",
       "    </tr>\n",
       "    <tr>\n",
       "      <th>6</th>\n",
       "      <td>2020-06-01</td>\n",
       "      <td>966.00</td>\n",
       "      <td>737577</td>\n",
       "    </tr>\n",
       "    <tr>\n",
       "      <th>7</th>\n",
       "      <td>2020-07-01</td>\n",
       "      <td>12420.00</td>\n",
       "      <td>737607</td>\n",
       "    </tr>\n",
       "    <tr>\n",
       "      <th>8</th>\n",
       "      <td>2020-08-01</td>\n",
       "      <td>11027.70</td>\n",
       "      <td>737638</td>\n",
       "    </tr>\n",
       "    <tr>\n",
       "      <th>9</th>\n",
       "      <td>2020-09-01</td>\n",
       "      <td>1556.07</td>\n",
       "      <td>737669</td>\n",
       "    </tr>\n",
       "    <tr>\n",
       "      <th>10</th>\n",
       "      <td>2020-10-01</td>\n",
       "      <td>8892.60</td>\n",
       "      <td>737699</td>\n",
       "    </tr>\n",
       "  </tbody>\n",
       "</table>\n",
       "</div>"
      ],
      "text/plain": [
       "   Purchase Month     Total  Purchase Month Numerical\n",
       "0      2019-12-01    483.00                    737394\n",
       "1      2020-01-01    966.00                    737425\n",
       "2      2020-02-01    483.00                    737456\n",
       "3      2020-03-01    759.00                    737485\n",
       "4      2020-04-01    483.00                    737516\n",
       "5      2020-05-01   2553.00                    737546\n",
       "6      2020-06-01    966.00                    737577\n",
       "7      2020-07-01  12420.00                    737607\n",
       "8      2020-08-01  11027.70                    737638\n",
       "9      2020-09-01   1556.07                    737669\n",
       "10     2020-10-01   8892.60                    737699"
      ]
     },
     "execution_count": 249,
     "metadata": {},
     "output_type": "execute_result"
    }
   ],
   "source": [
    "grouped = df.groupby('Purchase Month')\n",
    "month_data = grouped['Total'].sum().to_frame(name = 'Total').reset_index()\n",
    "current_month = month_data[month_data['Purchase Month'] == '2020-11-01'].index\n",
    "month_data.drop(current_month, inplace=True)\n",
    "month_data['Purchase Month Numerical'] = month_data['Purchase Month'].map(dt.datetime.toordinal)\n",
    "month_data"
   ]
  },
  {
   "cell_type": "code",
   "execution_count": 250,
   "metadata": {},
   "outputs": [
    {
     "data": {
      "text/plain": [
       "Purchase Month              datetime64[ns]\n",
       "Total                              float64\n",
       "Purchase Month Numerical             int64\n",
       "dtype: object"
      ]
     },
     "execution_count": 250,
     "metadata": {},
     "output_type": "execute_result"
    }
   ],
   "source": [
    "month_data.dtypes"
   ]
  },
  {
   "cell_type": "markdown",
   "metadata": {},
   "source": [
    "# Simple Linear Regression"
   ]
  },
  {
   "cell_type": "markdown",
   "metadata": {},
   "source": [
    "Here we will estimate the sales with respect month totals"
   ]
  },
  {
   "cell_type": "code",
   "execution_count": 252,
   "metadata": {},
   "outputs": [],
   "source": [
    "from sklearn.model_selection import train_test_split\n",
    "from sklearn.linear_model import LinearRegression"
   ]
  },
  {
   "cell_type": "code",
   "execution_count": 253,
   "metadata": {},
   "outputs": [],
   "source": [
    "X = month_data['Purchase Month'].values.reshape(-1,1)\n",
    "y = month_data['Total'].values.reshape(-1,1)"
   ]
  },
  {
   "cell_type": "code",
   "execution_count": 254,
   "metadata": {
    "scrolled": true
   },
   "outputs": [
    {
     "data": {
      "image/png": "[encoded data removed]",
      "text/plain": [
       "<Figure size 1152x576 with 1 Axes>"
      ]
     },
     "metadata": {
      "needs_background": "light"
     },
     "output_type": "display_data"
    }
   ],
   "source": [
    "#Ploting a graph to see the points\n",
    "plt.figure(figsize=(16, 8))\n",
    "plt.scatter(X, y, c='black')\n",
    "plt.xlabel(\"Purchase date\")\n",
    "plt.ylabel(\"Sales ($)\")\n",
    "plt.show()"
   ]
  },
  {
   "cell_type": "code",
   "execution_count": 255,
   "metadata": {},
   "outputs": [],
   "source": [
    "#Switch X values to using numerical date column\n",
    "\n",
    "X = month_data['Purchase Month Numerical'].values.reshape(-1,1)\n",
    "\n",
    "#Splitting our dataset to Training and Testing dataset\n",
    "\n",
    "X_train, X_test, y_train, y_test = train_test_split(X, y, test_size=0.2, random_state=42)"
   ]
  },
  {
   "cell_type": "code",
   "execution_count": 256,
   "metadata": {},
   "outputs": [
    {
     "data": {
      "text/plain": [
       "LinearRegression()"
      ]
     },
     "execution_count": 256,
     "metadata": {},
     "output_type": "execute_result"
    }
   ],
   "source": [
    "#Fitting Linear Regression to the training set\n",
    "\n",
    "reg = LinearRegression()\n",
    "reg.fit(X_train, y_train)"
   ]
  },
  {
   "cell_type": "code",
   "execution_count": 238,
   "metadata": {},
   "outputs": [
    {
     "data": {
      "image/png": "[encoded data removed]",
      "text/plain": [
       "<Figure size 1152x576 with 1 Axes>"
      ]
     },
     "metadata": {
      "needs_background": "light"
     },
     "output_type": "display_data"
    }
   ],
   "source": [
    "#predicting the Test set result\n",
    "y_pred = reg.predict(X_test)\n",
    "plt.figure(figsize=(16, 8))\n",
    "plt.scatter(X, y, c='black')\n",
    "plt.plot(\n",
    "    X_test,\n",
    "    y_pred,\n",
    "    c='blue',\n",
    "    linewidth=2\n",
    ")\n",
    "plt.xlabel(\"Purchase Month\")\n",
    "plt.ylabel(\"Sales ($)\")\n",
    "plt.show()"
   ]
  },
  {
   "cell_type": "code",
   "execution_count": 239,
   "metadata": {},
   "outputs": [
    {
     "data": {
      "text/plain": [
       "array([[43.66185418]])"
      ]
     },
     "execution_count": 239,
     "metadata": {},
     "output_type": "execute_result"
    }
   ],
   "source": [
    "#Calculating the Coefficients\n",
    "reg.coef_"
   ]
  },
  {
   "cell_type": "code",
   "execution_count": 240,
   "metadata": {},
   "outputs": [
    {
     "data": {
      "text/plain": [
       "array([-32198317.26460417])"
      ]
     },
     "execution_count": 240,
     "metadata": {},
     "output_type": "execute_result"
    }
   ],
   "source": [
    "#Calculating the Intercept\n",
    "reg.intercept_"
   ]
  },
  {
   "cell_type": "code",
   "execution_count": 241,
   "metadata": {
    "scrolled": true
   },
   "outputs": [
    {
     "data": {
      "text/plain": [
       "-34.908367672068465"
      ]
     },
     "execution_count": 241,
     "metadata": {},
     "output_type": "execute_result"
    }
   ],
   "source": [
    "#Calculating the R squared value\n",
    "from sklearn.metrics import r2_score\n",
    "r2_score(y_test, y_pred)"
   ]
  },
  {
   "cell_type": "markdown",
   "metadata": {},
   "source": [
    "# Simple Linear Regression v2"
   ]
  },
  {
   "cell_type": "markdown",
   "metadata": {},
   "source": [
    "Here we will estimate the sales using all sales not summed over a month period"
   ]
  },
  {
   "cell_type": "code",
   "execution_count": 251,
   "metadata": {},
   "outputs": [
    {
     "data": {
      "image/png": "[encoded data removed]",
      "text/plain": [
       "<Figure size 1152x576 with 1 Axes>"
      ]
     },
     "metadata": {
      "needs_background": "light"
     },
     "output_type": "display_data"
    }
   ],
   "source": [
    "X2 = df['Purchase Month'].values.reshape(-1,1)\n",
    "y2 = df['Total'].values.reshape(-1,1)\n",
    "#Ploting a graph to see the points\n",
    "plt.figure(figsize=(16, 8))\n",
    "plt.scatter(X2, y2, c='black')\n",
    "plt.xlabel(\"Purchase date\")\n",
    "plt.ylabel(\"Sales ($)\")\n",
    "plt.show()"
   ]
  },
  {
   "cell_type": "code",
   "execution_count": 260,
   "metadata": {},
   "outputs": [
    {
     "data": {
      "image/png": "[encoded data removed]",
      "text/plain": [
       "<Figure size 1152x576 with 1 Axes>"
      ]
     },
     "metadata": {
      "needs_background": "light"
     },
     "output_type": "display_data"
    }
   ],
   "source": [
    "#Switch X values to using numerical date column\n",
    "\n",
    "X2 = df['Purchase Month Numerical'].values.reshape(-1,1)\n",
    "\n",
    "#Splitting our dataset to Training and Testing dataset\n",
    "\n",
    "X_train2, X_test2, y_train2, y_test2 = train_test_split(X2, y2, test_size=0.2, random_state=42)\n",
    "\n",
    "#Fitting Linear Regression to the training set\n",
    "\n",
    "reg2 = LinearRegression()\n",
    "reg2.fit(X_train2, y_train2)\n",
    "\n",
    "#predicting the Test set result\n",
    "\n",
    "y_pred2 = reg2.predict(X_test2)\n",
    "plt.figure(figsize=(16, 8))\n",
    "plt.scatter(X2, y2, c='black')\n",
    "plt.plot(\n",
    "    X_test2,\n",
    "    y_pred2,\n",
    "    c='blue',\n",
    "    linewidth=2\n",
    ")\n",
    "plt.xlabel(\"Purchase Month\")\n",
    "plt.ylabel(\"Sales ($)\")\n",
    "plt.show()\n"
   ]
  },
  {
   "cell_type": "code",
   "execution_count": 263,
   "metadata": {},
   "outputs": [
    {
     "data": {
      "text/plain": [
       "array([[0.12467017]])"
      ]
     },
     "execution_count": 263,
     "metadata": {},
     "output_type": "execute_result"
    }
   ],
   "source": [
    "#Calculating the Coefficients\n",
    "reg2.coef_"
   ]
  },
  {
   "cell_type": "code",
   "execution_count": 264,
   "metadata": {},
   "outputs": [
    {
     "data": {
      "text/plain": [
       "array([-91855.48650115])"
      ]
     },
     "execution_count": 264,
     "metadata": {},
     "output_type": "execute_result"
    }
   ],
   "source": [
    "#Calculating the Intercept\n",
    "reg2.intercept_"
   ]
  },
  {
   "cell_type": "code",
   "execution_count": 265,
   "metadata": {},
   "outputs": [
    {
     "data": {
      "text/plain": [
       "-0.0027872840793248255"
      ]
     },
     "execution_count": 265,
     "metadata": {},
     "output_type": "execute_result"
    }
   ],
   "source": [
    "#Calculating the R squared value\n",
    "r2_score(y_test2, y_pred2)"
   ]
  },
  {
   "cell_type": "markdown",
   "metadata": {},
   "source": [
    "# Simple Linear Regression v3"
   ]
  },
  {
   "cell_type": "markdown",
   "metadata": {},
   "source": [
    "Here we will try to use the mean sale value per month for the model"
   ]
  },
  {
   "cell_type": "code",
   "execution_count": 272,
   "metadata": {},
   "outputs": [
    {
     "data": {
      "text/html": [
       "<div>\n",
       "<style scoped>\n",
       "    .dataframe tbody tr th:only-of-type {\n",
       "        vertical-align: middle;\n",
       "    }\n",
       "\n",
       "    .dataframe tbody tr th {\n",
       "        vertical-align: top;\n",
       "    }\n",
       "\n",
       "    .dataframe thead th {\n",
       "        text-align: right;\n",
       "    }\n",
       "</style>\n",
       "<table border=\"1\" class=\"dataframe\">\n",
       "  <thead>\n",
       "    <tr style=\"text-align: right;\">\n",
       "      <th></th>\n",
       "      <th>Purchase Month</th>\n",
       "      <th>Total</th>\n",
       "      <th>Purchase Month Numerical</th>\n",
       "    </tr>\n",
       "  </thead>\n",
       "  <tbody>\n",
       "    <tr>\n",
       "      <th>0</th>\n",
       "      <td>2019-12-01</td>\n",
       "      <td>96.600000</td>\n",
       "      <td>737394</td>\n",
       "    </tr>\n",
       "    <tr>\n",
       "      <th>1</th>\n",
       "      <td>2020-01-01</td>\n",
       "      <td>96.600000</td>\n",
       "      <td>737425</td>\n",
       "    </tr>\n",
       "    <tr>\n",
       "      <th>2</th>\n",
       "      <td>2020-02-01</td>\n",
       "      <td>80.500000</td>\n",
       "      <td>737456</td>\n",
       "    </tr>\n",
       "    <tr>\n",
       "      <th>3</th>\n",
       "      <td>2020-03-01</td>\n",
       "      <td>84.333333</td>\n",
       "      <td>737485</td>\n",
       "    </tr>\n",
       "    <tr>\n",
       "      <th>4</th>\n",
       "      <td>2020-04-01</td>\n",
       "      <td>120.750000</td>\n",
       "      <td>737516</td>\n",
       "    </tr>\n",
       "    <tr>\n",
       "      <th>5</th>\n",
       "      <td>2020-05-01</td>\n",
       "      <td>77.363636</td>\n",
       "      <td>737546</td>\n",
       "    </tr>\n",
       "    <tr>\n",
       "      <th>6</th>\n",
       "      <td>2020-06-01</td>\n",
       "      <td>74.307692</td>\n",
       "      <td>737577</td>\n",
       "    </tr>\n",
       "    <tr>\n",
       "      <th>7</th>\n",
       "      <td>2020-07-01</td>\n",
       "      <td>108.000000</td>\n",
       "      <td>737607</td>\n",
       "    </tr>\n",
       "    <tr>\n",
       "      <th>8</th>\n",
       "      <td>2020-08-01</td>\n",
       "      <td>110.277000</td>\n",
       "      <td>737638</td>\n",
       "    </tr>\n",
       "    <tr>\n",
       "      <th>9</th>\n",
       "      <td>2020-09-01</td>\n",
       "      <td>111.147857</td>\n",
       "      <td>737669</td>\n",
       "    </tr>\n",
       "    <tr>\n",
       "      <th>10</th>\n",
       "      <td>2020-10-01</td>\n",
       "      <td>111.157500</td>\n",
       "      <td>737699</td>\n",
       "    </tr>\n",
       "  </tbody>\n",
       "</table>\n",
       "</div>"
      ],
      "text/plain": [
       "   Purchase Month       Total  Purchase Month Numerical\n",
       "0      2019-12-01   96.600000                    737394\n",
       "1      2020-01-01   96.600000                    737425\n",
       "2      2020-02-01   80.500000                    737456\n",
       "3      2020-03-01   84.333333                    737485\n",
       "4      2020-04-01  120.750000                    737516\n",
       "5      2020-05-01   77.363636                    737546\n",
       "6      2020-06-01   74.307692                    737577\n",
       "7      2020-07-01  108.000000                    737607\n",
       "8      2020-08-01  110.277000                    737638\n",
       "9      2020-09-01  111.147857                    737669\n",
       "10     2020-10-01  111.157500                    737699"
      ]
     },
     "execution_count": 272,
     "metadata": {},
     "output_type": "execute_result"
    }
   ],
   "source": [
    "grouped = df.groupby('Purchase Month')\n",
    "month_sale_mean = grouped['Total'].mean().to_frame(name = 'Total').reset_index()\n",
    "month_sale_mean['Purchase Month Numerical'] = month_sale_mean['Purchase Month'].map(dt.datetime.toordinal)\n",
    "\n",
    "month_sale_mean"
   ]
  },
  {
   "cell_type": "code",
   "execution_count": 273,
   "metadata": {},
   "outputs": [
    {
     "data": {
      "image/png": "[encoded data removed]",
      "text/plain": [
       "<Figure size 1152x576 with 1 Axes>"
      ]
     },
     "metadata": {
      "needs_background": "light"
     },
     "output_type": "display_data"
    }
   ],
   "source": [
    "X3 = month_sale_mean['Purchase Month'].values.reshape(-1,1)\n",
    "y3 = month_sale_mean['Total'].values.reshape(-1,1)\n",
    "\n",
    "#Ploting a graph to see the points\n",
    "plt.figure(figsize=(16, 8))\n",
    "plt.scatter(X3, y3, c='black')\n",
    "plt.xlabel(\"Purchase date\")\n",
    "plt.ylabel(\"Sales Average ($)\")\n",
    "plt.show()"
   ]
  },
  {
   "cell_type": "code",
   "execution_count": 274,
   "metadata": {},
   "outputs": [
    {
     "data": {
      "image/png": "[encoded data removed]",
      "text/plain": [
       "<Figure size 1152x576 with 1 Axes>"
      ]
     },
     "metadata": {
      "needs_background": "light"
     },
     "output_type": "display_data"
    }
   ],
   "source": [
    "#Switch X values to using numerical date column\n",
    "\n",
    "X3 = month_sale_mean['Purchase Month Numerical'].values.reshape(-1,1)\n",
    "\n",
    "#Splitting our dataset to Training and Testing dataset\n",
    "\n",
    "X_train3, X_test3, y_train3, y_test3 = train_test_split(X3, y3, test_size=0.2, random_state=42)\n",
    "\n",
    "#Fitting Linear Regression to the training set\n",
    "\n",
    "reg3 = LinearRegression()\n",
    "reg3.fit(X_train3, y_train3)\n",
    "\n",
    "#predicting the Test set result\n",
    "\n",
    "y_pred3 = reg3.predict(X_test3)\n",
    "plt.figure(figsize=(16, 8))\n",
    "plt.scatter(X3, y3, c='black')\n",
    "plt.plot(\n",
    "    X_test3,\n",
    "    y_pred3,\n",
    "    c='blue',\n",
    "    linewidth=2\n",
    ")\n",
    "plt.xlabel(\"Purchase Month\")\n",
    "plt.ylabel(\"Sales Average ($)\")\n",
    "plt.show()\n"
   ]
  },
  {
   "cell_type": "code",
   "execution_count": 275,
   "metadata": {},
   "outputs": [
    {
     "data": {
      "text/plain": [
       "array([[0.07692855]])"
      ]
     },
     "execution_count": 275,
     "metadata": {},
     "output_type": "execute_result"
    }
   ],
   "source": [
    "#Calculating the Coefficients\n",
    "reg3.coef_"
   ]
  },
  {
   "cell_type": "code",
   "execution_count": 277,
   "metadata": {},
   "outputs": [
    {
     "data": {
      "text/plain": [
       "array([-56640.44029553])"
      ]
     },
     "execution_count": 277,
     "metadata": {},
     "output_type": "execute_result"
    }
   ],
   "source": [
    "#Calculating the Intercept\n",
    "reg3.intercept_"
   ]
  },
  {
   "cell_type": "code",
   "execution_count": 278,
   "metadata": {},
   "outputs": [
    {
     "data": {
      "text/plain": [
       "0.05259372691769182"
      ]
     },
     "execution_count": 278,
     "metadata": {},
     "output_type": "execute_result"
    }
   ],
   "source": [
    "#Calculating the R squared value\n",
    "r2_score(y_test3, y_pred3)"
   ]
  },
  {
   "cell_type": "code",
   "execution_count": null,
   "metadata": {},
   "outputs": [],
   "source": []
  }
 ],
 "metadata": {
  "kernelspec": {
   "display_name": "Python 3",
   "language": "python",
   "name": "python3"
  },
  "language_info": {
   "codemirror_mode": {
    "name": "ipython",
    "version": 3
   },
   "file_extension": ".py",
   "mimetype": "text/x-python",
   "name": "python",
   "nbconvert_exporter": "python",
   "pygments_lexer": "ipython3",
   "version": "3.8.3"
  }
 },
 "nbformat": 4,
 "nbformat_minor": 4
}
